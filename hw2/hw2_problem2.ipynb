{
  "nbformat": 4,
  "nbformat_minor": 0,
  "metadata": {
    "colab": {
      "name": "hw2_problem2.ipynb",
      "version": "0.3.2",
      "provenance": [],
      "collapsed_sections": [],
      "toc_visible": true
    },
    "kernelspec": {
      "name": "python3",
      "display_name": "Python 3"
    }
  },
  "cells": [
    {
      "metadata": {
        "id": "NWbNKo45xMGQ",
        "colab_type": "text"
      },
      "cell_type": "markdown",
      "source": [
        "#COEN 240\n",
        "## HW 2 Problem 2\n",
        "\n",
        "\n",
        "### Data Upload\n",
        "Upload the att_faces_10.zip file in the same directory as this notebook. Run the code cell below if on Google Colab.  "
      ]
    },
    {
      "metadata": {
        "id": "j2rMekaUxdCd",
        "colab_type": "code",
        "colab": {}
      },
      "cell_type": "code",
      "source": [
        "from google.colab import files\n",
        "uploaded = files.upload()\n",
        "\n",
        "!unzip att_faces_10.zip\n",
        "!rm att_faces_10.zip"
      ],
      "execution_count": 0,
      "outputs": []
    },
    {
      "metadata": {
        "id": "Bo8TngdgxuuU",
        "colab_type": "text"
      },
      "cell_type": "markdown",
      "source": [
        "### Preprocessing\n",
        "\n",
        "* Assign train and test images according to the HW specifications.\n",
        "* Go through the images in each subject directory and convert each image to a vector of length D = 112 × 92 = 10304.\n",
        "* Stack 6 training images of all 10 subjects to form a matrix of size 10304 × 60."
      ]
    },
    {
      "metadata": {
        "id": "X3OOs8YFyZ9k",
        "colab_type": "code",
        "outputId": "698ff340-c581-4261-a5b1-6f9465eb4cfd",
        "colab": {
          "base_uri": "https://localhost:8080/",
          "height": 425
        }
      },
      "cell_type": "code",
      "source": [
        "import os\n",
        "\n",
        "import cv2\n",
        "import numpy as np\n",
        "\n",
        "train_ims = [1, 3, 4, 5, 7, 9]\n",
        "test_ims = [2, 6, 8, 10]\n",
        "\n",
        "x_train = []\n",
        "y_train = []\n",
        "x_test = []\n",
        "y_test = []\n",
        "\n",
        "for i in range(1, 11):  # 10 subjects\n",
        "  for j in range(1, 11):  # 10 images per subject\n",
        "      # read the images as grayscale\n",
        "      label = 's' + str(i)\n",
        "      im_path = os.path.join('att_faces_10', label, str(j) + '.pgm')\n",
        "      im = cv2.imread(im_path, cv2.IMREAD_GRAYSCALE)\n",
        "      im_vec = im.ravel()  # reshape to a vector of length 10304\n",
        "      \n",
        "      if j in train_ims:\n",
        "        x_train.append(im_vec)\n",
        "        y_train.append(label)\n",
        "      else:\n",
        "        x_test.append(im_vec)\n",
        "        y_test.append(label)\n",
        "      \n",
        "# stack 6 training images of all 10 subjects\n",
        "X_train = np.transpose(np.array(x_train))  \n",
        "\n",
        "# zero center\n",
        "mu_train = (np.dot(X_train, np.identity(X_train.shape[1]))) / X_train.shape[1]\n",
        "X_train = X_train - mu_train\n",
        "                   \n",
        "print('X_train = ')\n",
        "print(X_train)\n",
        "print('Shape of X_train = {}'.format(X_train.shape))\n",
        "\n",
        "# do same processing for test\n",
        "X_test = np.transpose(np.array(x_test))\n",
        "mu_test = (np.dot(X_test, np.identity(X_test.shape[1]))) / X_test.shape[1]\n",
        "X_test = X_test - mu_test\n",
        "\n",
        "print('X_test = ')\n",
        "print(X_test)\n",
        "print('Shape of X_test = {}'.format(X_test.shape))"
      ],
      "execution_count": 57,
      "outputs": [
        {
          "output_type": "stream",
          "text": [
            "X_train = \n",
            "[[ 47.2         38.35        61.95       ... 130.78333333 131.76666667\n",
            "  133.73333333]\n",
            " [ 48.18333333  43.26666667  52.11666667 ... 132.75       135.7\n",
            "  133.73333333]\n",
            " [ 44.25        52.11666667  34.41666667 ... 134.71666667 133.73333333\n",
            "  133.73333333]\n",
            " ...\n",
            " [ 46.21666667  28.51666667  40.31666667 ...  15.73333333  54.08333333\n",
            "   18.68333333]\n",
            " [ 45.23333333  25.56666667   9.83333333 ...  18.68333333  77.68333333\n",
            "   19.66666667]\n",
            " [ 45.23333333  28.51666667  23.6        ...  16.71666667  79.65\n",
            "   20.65      ]]\n",
            "Shape of X_train = (10304, 60)\n",
            "X_test = \n",
            "[[ 58.5    41.925  42.9   ... 129.675 131.625 129.675]\n",
            " [ 58.5    48.75   41.925 ... 131.625 129.675 125.775]\n",
            " [ 60.45   39.975  31.2   ... 131.625 132.6   129.675]\n",
            " ...\n",
            " [ 31.2   154.05   41.925 ...  17.55   17.55   14.625]\n",
            " [ 33.15  149.175  41.925 ...  16.575  20.475  28.275]\n",
            " [ 33.15  164.775  36.075 ...  14.625  23.4    25.35 ]]\n",
            "Shape of X_test = (10304, 40)\n"
          ],
          "name": "stdout"
        }
      ]
    },
    {
      "metadata": {
        "id": "m_HU_s_q4VGg",
        "colab_type": "text"
      },
      "cell_type": "markdown",
      "source": [
        "### PCA\n",
        "\n",
        "* Apply PCA to matrix `X_train` with K = 1, 2, 3, 6, 10, 20, 30, and 50.\n",
        "* Project the face images to the rank-K subspace (i.e. project the face images onto the K principal components).\n",
        "\n",
        "### Classification\n",
        "* Apply the nearest-neighbor classifier in the subspace."
      ]
    },
    {
      "metadata": {
        "id": "cse9fauG4l21",
        "colab_type": "code",
        "outputId": "1aa4b497-a12e-486f-aaf9-8115675c8b15",
        "colab": {
          "base_uri": "https://localhost:8080/",
          "height": 989
        }
      },
      "cell_type": "code",
      "source": [
        "from sklearn.decomposition import PCA\n",
        "from sklearn.neighbors import KNeighborsClassifier\n",
        "\n",
        "from sklearn.metrics import accuracy_score\n",
        "\n",
        "K = [1, 2, 3, 6, 10, 20, 30, 50]\n",
        "im_height = 112\n",
        "im_width = 92\n",
        "\n",
        "accuracy_rates = []  # stores the accuracy rates for the different K values\n",
        "\n",
        "\n",
        "for k in K:\n",
        "  #################\n",
        "  # PCA\n",
        "  #################\n",
        "  pca = PCA(n_components=k)\n",
        "  pca.fit(X_train.T)\n",
        "  # print('Rank-{}'.format(k) + ' principal components = ')\n",
        "  # print(pca.components_)\n",
        "\n",
        "  # project the data on the principal components\n",
        "  X_train_pca = pca.transform(X_train.T)\n",
        "  X_test_pca = pca.transform(X_test.T)\n",
        "\n",
        "  #################\n",
        "  # CLASSIFICATION\n",
        "  #################\n",
        "  neigh = KNeighborsClassifier(n_neighbors=3)\n",
        "  neigh.fit(X_train_pca, y_train)\n",
        "\n",
        "  y_pred = neigh.predict(X_test_pca)\n",
        "\n",
        "  correct_preds = accuracy_score(y_test, y_pred, normalize = False)\n",
        "  accuracy_rate = accuracy_score(y_test, y_pred)\n",
        "\n",
        "  print('K = {}'.format(k))\n",
        "  print('True = {}'.format(y_test))\n",
        "  print('Predicted = {}'.format(y_pred))\n",
        "  print('Total number of correct classifications = {}'.format(correct_preds))\n",
        "  print('Accuracy rate = {}'.format(accuracy_rate))\n",
        "\n",
        "  accuracy_rates.append(accuracy_rate)"
      ],
      "execution_count": 58,
      "outputs": [
        {
          "output_type": "stream",
          "text": [
            "K = 1\n",
            "True = ['s1', 's1', 's1', 's1', 's2', 's2', 's2', 's2', 's3', 's3', 's3', 's3', 's4', 's4', 's4', 's4', 's5', 's5', 's5', 's5', 's6', 's6', 's6', 's6', 's7', 's7', 's7', 's7', 's8', 's8', 's8', 's8', 's9', 's9', 's9', 's9', 's10', 's10', 's10', 's10']\n",
            "Predicted = ['s1' 's1' 's1' 's1' 's2' 's5' 's2' 's2' 's4' 's3' 's8' 's3' 's8' 's5'\n",
            " 's4' 's8' 's5' 's5' 's5' 's2' 's6' 's6' 's6' 's6' 's8' 's8' 's6' 's4'\n",
            " 's8' 's4' 's4' 's4' 's9' 's9' 's6' 's6' 's10' 's10' 's10' 's6']\n",
            "Total number of correct classifications = 23\n",
            "Accuracy rate = 0.575\n",
            "K = 2\n",
            "True = ['s1', 's1', 's1', 's1', 's2', 's2', 's2', 's2', 's3', 's3', 's3', 's3', 's4', 's4', 's4', 's4', 's5', 's5', 's5', 's5', 's6', 's6', 's6', 's6', 's7', 's7', 's7', 's7', 's8', 's8', 's8', 's8', 's9', 's9', 's9', 's9', 's10', 's10', 's10', 's10']\n",
            "Predicted = ['s1' 's1' 's1' 's1' 's2' 's3' 's2' 's2' 's3' 's3' 's3' 's3' 's4' 's5'\n",
            " 's4' 's7' 's5' 's5' 's5' 's5' 's6' 's6' 's6' 's6' 's3' 's3' 's7' 's3'\n",
            " 's8' 's8' 's8' 's8' 's9' 's9' 's9' 's7' 's10' 's10' 's10' 's3']\n",
            "Total number of correct classifications = 32\n",
            "Accuracy rate = 0.8\n",
            "K = 3\n",
            "True = ['s1', 's1', 's1', 's1', 's2', 's2', 's2', 's2', 's3', 's3', 's3', 's3', 's4', 's4', 's4', 's4', 's5', 's5', 's5', 's5', 's6', 's6', 's6', 's6', 's7', 's7', 's7', 's7', 's8', 's8', 's8', 's8', 's9', 's9', 's9', 's9', 's10', 's10', 's10', 's10']\n",
            "Predicted = ['s1' 's1' 's1' 's1' 's2' 's2' 's2' 's2' 's3' 's4' 's3' 's3' 's4' 's3'\n",
            " 's4' 's4' 's5' 's5' 's5' 's5' 's6' 's6' 's6' 's6' 's7' 's7' 's7' 's7'\n",
            " 's8' 's8' 's8' 's8' 's9' 's9' 's9' 's9' 's10' 's10' 's10' 's10']\n",
            "Total number of correct classifications = 38\n",
            "Accuracy rate = 0.95\n",
            "K = 6\n",
            "True = ['s1', 's1', 's1', 's1', 's2', 's2', 's2', 's2', 's3', 's3', 's3', 's3', 's4', 's4', 's4', 's4', 's5', 's5', 's5', 's5', 's6', 's6', 's6', 's6', 's7', 's7', 's7', 's7', 's8', 's8', 's8', 's8', 's9', 's9', 's9', 's9', 's10', 's10', 's10', 's10']\n",
            "Predicted = ['s1' 's1' 's1' 's1' 's2' 's2' 's2' 's2' 's3' 's3' 's4' 's3' 's4' 's4'\n",
            " 's4' 's4' 's5' 's5' 's5' 's5' 's6' 's6' 's6' 's6' 's7' 's7' 's7' 's7'\n",
            " 's8' 's8' 's8' 's8' 's9' 's9' 's9' 's9' 's10' 's10' 's10' 's3']\n",
            "Total number of correct classifications = 38\n",
            "Accuracy rate = 0.95\n",
            "K = 10\n",
            "True = ['s1', 's1', 's1', 's1', 's2', 's2', 's2', 's2', 's3', 's3', 's3', 's3', 's4', 's4', 's4', 's4', 's5', 's5', 's5', 's5', 's6', 's6', 's6', 's6', 's7', 's7', 's7', 's7', 's8', 's8', 's8', 's8', 's9', 's9', 's9', 's9', 's10', 's10', 's10', 's10']\n",
            "Predicted = ['s1' 's1' 's1' 's1' 's2' 's2' 's2' 's2' 's3' 's3' 's3' 's3' 's4' 's4'\n",
            " 's4' 's4' 's5' 's5' 's5' 's5' 's6' 's6' 's6' 's6' 's7' 's7' 's7' 's7'\n",
            " 's8' 's8' 's8' 's8' 's9' 's9' 's9' 's9' 's10' 's10' 's10' 's10']\n",
            "Total number of correct classifications = 40\n",
            "Accuracy rate = 1.0\n",
            "K = 20\n",
            "True = ['s1', 's1', 's1', 's1', 's2', 's2', 's2', 's2', 's3', 's3', 's3', 's3', 's4', 's4', 's4', 's4', 's5', 's5', 's5', 's5', 's6', 's6', 's6', 's6', 's7', 's7', 's7', 's7', 's8', 's8', 's8', 's8', 's9', 's9', 's9', 's9', 's10', 's10', 's10', 's10']\n",
            "Predicted = ['s1' 's1' 's1' 's1' 's2' 's2' 's2' 's2' 's3' 's3' 's3' 's3' 's4' 's4'\n",
            " 's4' 's4' 's5' 's5' 's5' 's5' 's6' 's6' 's6' 's6' 's7' 's7' 's7' 's7'\n",
            " 's8' 's8' 's8' 's8' 's9' 's9' 's9' 's9' 's10' 's10' 's10' 's4']\n",
            "Total number of correct classifications = 39\n",
            "Accuracy rate = 0.975\n",
            "K = 30\n",
            "True = ['s1', 's1', 's1', 's1', 's2', 's2', 's2', 's2', 's3', 's3', 's3', 's3', 's4', 's4', 's4', 's4', 's5', 's5', 's5', 's5', 's6', 's6', 's6', 's6', 's7', 's7', 's7', 's7', 's8', 's8', 's8', 's8', 's9', 's9', 's9', 's9', 's10', 's10', 's10', 's10']\n",
            "Predicted = ['s5' 's1' 's1' 's1' 's2' 's2' 's2' 's2' 's3' 's3' 's3' 's3' 's4' 's4'\n",
            " 's4' 's4' 's5' 's5' 's5' 's5' 's6' 's6' 's6' 's6' 's7' 's7' 's7' 's7'\n",
            " 's8' 's8' 's8' 's8' 's9' 's9' 's9' 's9' 's10' 's10' 's10' 's4']\n",
            "Total number of correct classifications = 38\n",
            "Accuracy rate = 0.95\n",
            "K = 50\n",
            "True = ['s1', 's1', 's1', 's1', 's2', 's2', 's2', 's2', 's3', 's3', 's3', 's3', 's4', 's4', 's4', 's4', 's5', 's5', 's5', 's5', 's6', 's6', 's6', 's6', 's7', 's7', 's7', 's7', 's8', 's8', 's8', 's8', 's9', 's9', 's9', 's9', 's10', 's10', 's10', 's10']\n",
            "Predicted = ['s1' 's1' 's1' 's1' 's2' 's2' 's2' 's2' 's3' 's3' 's3' 's3' 's4' 's4'\n",
            " 's4' 's4' 's5' 's5' 's5' 's5' 's6' 's6' 's6' 's6' 's7' 's7' 's7' 's7'\n",
            " 's8' 's8' 's8' 's8' 's9' 's9' 's9' 's9' 's10' 's10' 's10' 's4']\n",
            "Total number of correct classifications = 39\n",
            "Accuracy rate = 0.975\n"
          ],
          "name": "stdout"
        }
      ]
    },
    {
      "metadata": {
        "id": "jQcXLJYVOBKd",
        "colab_type": "text"
      },
      "cell_type": "markdown",
      "source": [
        "### Plot\n",
        "* Plot the recognition accuracy rate versus different K values."
      ]
    },
    {
      "metadata": {
        "id": "o-KZHRsR10eC",
        "colab_type": "code",
        "outputId": "c727cb73-2ccf-4bb0-959f-f921f9731ff1",
        "colab": {
          "base_uri": "https://localhost:8080/",
          "height": 361
        }
      },
      "cell_type": "code",
      "source": [
        "from matplotlib import pyplot as plt\n",
        "plt.style.use('seaborn')\n",
        "\n",
        "fig = plt.figure()\n",
        "ax = fig.add_subplot(111)\n",
        "plt.plot(K, accuracy_rates, linestyle='-', marker='o')\n",
        "for i, j in zip(K, accuracy_rates):\n",
        "    ax.annotate(str(round(j, 3)), xy=(i, j))\n",
        "plt.xlabel('K')\n",
        "plt.ylabel('accuracy rate')\n",
        "plt.locator_params(axis='y', nbins=10)\n",
        "plt.locator_params(axis='x', nbins=50)\n",
        "plt.show()"
      ],
      "execution_count": 59,
      "outputs": [
        {
          "output_type": "display_data",
          "data": {
            "image/png": "[encoded data removed]",
            "text/plain": [
              "<Figure size 576x396 with 1 Axes>"
            ]
          },
          "metadata": {
            "tags": []
          }
        }
      ]
    }
  ]
}